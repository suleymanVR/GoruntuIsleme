{
 "cells": [
  {
   "cell_type": "code",
   "execution_count": 1,
   "id": "f2d970ff",
   "metadata": {},
   "outputs": [],
   "source": [
    "from PIL import Image\n",
    "from PIL import ImageEnhance"
   ]
  },
  {
   "cell_type": "code",
   "execution_count": 4,
   "id": "a8c5370a",
   "metadata": {},
   "outputs": [],
   "source": [
    "image = Image.open(\"C:/Users/Casper/Desktop/imgen.jpg\")"
   ]
  },
  {
   "cell_type": "code",
   "execution_count": 13,
   "id": "f4679a6a",
   "metadata": {},
   "outputs": [],
   "source": [
    "image.show()"
   ]
  },
  {
   "cell_type": "code",
   "execution_count": 6,
   "id": "e7d691c0",
   "metadata": {},
   "outputs": [],
   "source": [
    "curr_sharp = ImageEnhance.Sharpness(image)\n",
    "new_sharp = 8.3"
   ]
  },
  {
   "cell_type": "code",
   "execution_count": 7,
   "id": "d92eb960",
   "metadata": {},
   "outputs": [],
   "source": [
    "img_sharped = curr_sharp.enhance(new_sharp)"
   ]
  },
  {
   "cell_type": "code",
   "execution_count": 11,
   "id": "779f8931",
   "metadata": {},
   "outputs": [],
   "source": [
    "img_sharped.show()"
   ]
  }
 ],
 "metadata": {
  "kernelspec": {
   "display_name": "Python 3 (ipykernel)",
   "language": "python",
   "name": "python3"
  },
  "language_info": {
   "codemirror_mode": {
    "name": "ipython",
    "version": 3
   },
   "file_extension": ".py",
   "mimetype": "text/x-python",
   "name": "python",
   "nbconvert_exporter": "python",
   "pygments_lexer": "ipython3",
   "version": "3.9.12"
  }
 },
 "nbformat": 4,
 "nbformat_minor": 5
}
