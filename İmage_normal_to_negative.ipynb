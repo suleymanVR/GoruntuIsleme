{
 "cells": [
  {
   "cell_type": "code",
   "execution_count": 3,
   "id": "94ab3d45",
   "metadata": {},
   "outputs": [],
   "source": [
    "from PIL import Image\n",
    "Img1 = Image.open (\"C:/Users/Casper/Desktop/brain.jpg\")\n",
    "h,w = Img1.size\n",
    "img = Img1.load()\n",
    "for i in range(0,h):\n",
    "    for j in range(0,w):\n",
    "        R,G,B = img[i,j]\n",
    "        R = 255 - R\n",
    "        G = 255 - G\n",
    "        B = 255 - B\n",
    "        img[i,j] = (R,G,B)\n",
    "Img1.show()"
   ]
  },
  {
   "cell_type": "code",
   "execution_count": null,
   "id": "6b7cf096",
   "metadata": {},
   "outputs": [],
   "source": []
  }
 ],
 "metadata": {
  "kernelspec": {
   "display_name": "Python 3 (ipykernel)",
   "language": "python",
   "name": "python3"
  },
  "language_info": {
   "codemirror_mode": {
    "name": "ipython",
    "version": 3
   },
   "file_extension": ".py",
   "mimetype": "text/x-python",
   "name": "python",
   "nbconvert_exporter": "python",
   "pygments_lexer": "ipython3",
   "version": "3.9.12"
  }
 },
 "nbformat": 4,
 "nbformat_minor": 5
}
